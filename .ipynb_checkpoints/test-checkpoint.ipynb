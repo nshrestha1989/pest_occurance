{
 "cells": [
  {
   "cell_type": "code",
   "execution_count": 1,
   "metadata": {},
   "outputs": [],
   "source": [
    "import pandas as pd\n",
    "\n",
    "insectData=pd.read_csv(\"mole_cricket.csv\", sep=\"\\t\")"
   ]
  },
  {
   "cell_type": "code",
   "execution_count": 2,
   "metadata": {},
   "outputs": [
    {
     "data": {
      "text/plain": [
       "Index(['gbifID', 'datasetKey', 'occurrenceID', 'kingdom', 'phylum', 'class',\n",
       "       'order', 'family', 'genus', 'species', 'infraspecificEpithet',\n",
       "       'taxonRank', 'scientificName', 'verbatimScientificName',\n",
       "       'verbatimScientificNameAuthorship', 'countryCode', 'locality',\n",
       "       'stateProvince', 'occurrenceStatus', 'individualCount',\n",
       "       'publishingOrgKey', 'decimalLatitude', 'decimalLongitude',\n",
       "       'coordinateUncertaintyInMeters', 'coordinatePrecision', 'elevation',\n",
       "       'elevationAccuracy', 'depth', 'depthAccuracy', 'eventDate', 'day',\n",
       "       'month', 'year', 'taxonKey', 'speciesKey', 'basisOfRecord',\n",
       "       'institutionCode', 'collectionCode', 'catalogNumber', 'recordNumber',\n",
       "       'identifiedBy', 'dateIdentified', 'license', 'rightsHolder',\n",
       "       'recordedBy', 'typeStatus', 'establishmentMeans', 'lastInterpreted',\n",
       "       'mediaType', 'issue'],\n",
       "      dtype='object')"
      ]
     },
     "execution_count": 2,
     "metadata": {},
     "output_type": "execute_result"
    }
   ],
   "source": [
    "\n",
    "insectData.keys()"
   ]
  },
  {
   "cell_type": "code",
   "execution_count": 3,
   "metadata": {},
   "outputs": [
    {
     "data": {
      "text/plain": [
       "0       -42.855891\n",
       "1        46.463307\n",
       "2        54.711918\n",
       "3        41.564933\n",
       "4       -27.857555\n",
       "           ...    \n",
       "12725    48.100000\n",
       "12726    47.750000\n",
       "12727    48.350000\n",
       "12728    47.960000\n",
       "12729    46.630000\n",
       "Name: decimalLatitude, Length: 12730, dtype: float64"
      ]
     },
     "execution_count": 3,
     "metadata": {},
     "output_type": "execute_result"
    }
   ],
   "source": [
    "lat=insectData.decimalLatitude\n",
    "lat"
   ]
  },
  {
   "cell_type": "code",
   "execution_count": 4,
   "metadata": {},
   "outputs": [
    {
     "data": {
      "text/plain": [
       "0        147.303490\n",
       "1          8.941633\n",
       "2         20.496942\n",
       "3        -93.767420\n",
       "4         25.580635\n",
       "            ...    \n",
       "12725     16.130000\n",
       "12726     13.080000\n",
       "12727     14.240000\n",
       "12728     16.210000\n",
       "12729     14.140000\n",
       "Name: decimalLongitude, Length: 12730, dtype: float64"
      ]
     },
     "execution_count": 4,
     "metadata": {},
     "output_type": "execute_result"
    }
   ],
   "source": [
    "long=insectData.decimalLongitude\n",
    "long"
   ]
  },
  {
   "cell_type": "code",
   "execution_count": 5,
   "metadata": {},
   "outputs": [],
   "source": [
    "#!jupyter nbextension enable --py --sys-prefix ipyleaflet\n",
    "#Map(center=[lat[0],long[0]],zoom=10)"
   ]
  },
  {
   "cell_type": "code",
   "execution_count": 6,
   "metadata": {},
   "outputs": [
    {
     "data": {
      "application/vnd.jupyter.widget-view+json": {
       "model_id": "ff74a465ff1847ddba6190a6b618632d",
       "version_major": 2,
       "version_minor": 0
      },
      "text/plain": [
       "Map(center=[50, 0], controls=(ZoomControl(options=['position', 'zoom_in_text', 'zoom_in_title', 'zoom_out_text…"
      ]
     },
     "metadata": {},
     "output_type": "display_data"
    }
   ],
   "source": [
    "#!jupyter nbextension list\n",
    "from ipyleaflet import Map, Marker, MarkerCluster\n",
    "m1 = Map(center=(50, 0), zoom=1)\n",
    "marker=[]\n",
    "i=0\n",
    "while i<len(insectData.decimalLongitude):\n",
    "    marker.append(Marker(location=(lat[i], long[i])))\n",
    "    i+=1\n",
    "marker_cluster = MarkerCluster(\n",
    "    markers=(marker)\n",
    ")\n",
    "m1.add_layer(marker_cluster); \n",
    "m1"
   ]
  },
  {
   "cell_type": "code",
   "execution_count": 7,
   "metadata": {},
   "outputs": [
    {
     "data": {
      "text/plain": [
       "'from ipyleaflet import Map, Marker, MarkerCluster\\n\\nm = Map(center=(50, 0), zoom=5)\\n\\nmarker1 = Marker(location=(lat[0], long[0]))\\nmarker2 = Marker(location=(lat[1],  long[1]))\\nmarker3 = Marker(location=(lat[2], long[2]))\\n\\nmarker_cluster = MarkerCluster(\\n    markers=(marker1, marker2, marker3)\\n)\\n\\nm.add_layer(marker_cluster);\\n\\nm'"
      ]
     },
     "execution_count": 7,
     "metadata": {},
     "output_type": "execute_result"
    }
   ],
   "source": [
    "'''from ipyleaflet import Map, Marker, MarkerCluster\n",
    "\n",
    "m = Map(center=(50, 0), zoom=5)\n",
    "\n",
    "marker1 = Marker(location=(lat[0], long[0]))\n",
    "marker2 = Marker(location=(lat[1],  long[1]))\n",
    "marker3 = Marker(location=(lat[2], long[2]))\n",
    "\n",
    "marker_cluster = MarkerCluster(\n",
    "    markers=(marker1, marker2, marker3)\n",
    ")\n",
    "\n",
    "m.add_layer(marker_cluster);\n",
    "\n",
    "m'''"
   ]
  },
  {
   "cell_type": "code",
   "execution_count": null,
   "metadata": {},
   "outputs": [],
   "source": []
  },
  {
   "cell_type": "code",
   "execution_count": null,
   "metadata": {},
   "outputs": [],
   "source": []
  }
 ],
 "metadata": {
  "kernelspec": {
   "display_name": "Python 3",
   "language": "python",
   "name": "python3"
  },
  "language_info": {
   "codemirror_mode": {
    "name": "ipython",
    "version": 3
   },
   "file_extension": ".py",
   "mimetype": "text/x-python",
   "name": "python",
   "nbconvert_exporter": "python",
   "pygments_lexer": "ipython3",
   "version": "3.8.5"
  }
 },
 "nbformat": 4,
 "nbformat_minor": 4
}
